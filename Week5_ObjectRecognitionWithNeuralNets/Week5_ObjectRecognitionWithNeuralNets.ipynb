{
 "cells": [
  {
   "cell_type": "markdown",
   "metadata": {},
   "source": [
    "# Table of content\n",
    "[5.1. Why object recognition is difficult](#object_reg)  \n",
    "[5.2. Ways to achieve viewpoint invariance](#viewpoint_invar)  \n",
    "[5.3. Convolutional neural networks for hand written digit recognition](#hand_written_digit_reg)  \n",
    "[5.4. Convolutional neural networks for object recognition](#conv_net_obj_reg)  "
   ]
  },
  {
   "cell_type": "markdown",
   "metadata": {},
   "source": [
    "## 5.1. Why object recognition is difficult\n",
    "<a id=\"object_reg\"> </a>\n",
    "- Things that make object recognition hard to recognize objects:  \n",
    "    - Segmentation: real scenes are mixed with other objects:  \n",
    "        - hard to tell which pieces go together as parts of the same object.\n",
    "        - parts of an object can be hidden behind other object (suffers from the occlusion due to other objects).\n",
    "    - Lighting: pixel intensity is as dependent on object as it is on lighting $\\rightarrow$ variations in perspective lighting\n",
    "    - Scale (Deformation): objects can deform in a variety of non-affine ways (i.e. a hand-written $2$ can have a large loop or just a cusp). Same object can look very different (for example, written numeral $2$ or $4$).\n",
    "    - Affordances: object classes are often defined by how they are used (i.e. chairs are things designed for sitting on so they have a wide variety of physical shapes. You sit in a chair, but modern vs classic chairs can be widly different, then you have to have knowledge that the thing is to be sat on).  \n",
    "    $\\rightarrow$ many objects are defined more by what it is used for than what it looks like\n",
    "    - Viewpoint/Transformation: changes in viewpoint cause changes in images that standard learning methods cannot cope with. Information hops (n~ bước nhảy thông tin) between input dimensions (i.e. pixels)\n",
    "    ![infor_hops](images/infor_hops.png)\n",
    "    i.e. A medical database in which the age of the patient is sometimes labeled incorrectly as the patient's weight - the example gives age and weight randomly changing locations - this is called \"dimension hopping\" which needs to be eliminated before applying ML. Viewpoint changes cause \"dimension hopping\"."
   ]
  },
  {
   "cell_type": "markdown",
   "metadata": {},
   "source": [
    "## 5.2. Ways to achieve viewpoint invariance\n",
    "<a id=\"viewpoint_invar\"> </a>\n",
    "- A few common approaches:\n",
    "    - Use redundant invariant features\n",
    "    - Box objects and normalize pixels: put a box around the object and use normalized pixels\n",
    "    - Replicated features with pooling (convolutional neural nets - $\\color{red}{Lecture\\ 5.3}$\n",
    "    - Hierarchy of parts that have explicit poses relative to camera ($\\color{red}{Lecture\\ 5.e}$)\n",
    "- Details:\n",
    "    - Invariant feature approach: \n",
    "        - Extract a large, redundant set of features that are invariant under transformations. \n",
    "        - The underlying assumption is based on the observation that humans can effortlessly detect objects in different poses and lighting conditions and, so, there must exist properties or features which are invariant over these variabilities. \n",
    "        - With enough invariant features, there is only one way to put them together into an image (relationships between features are automatically captured by other features due to multiple overlaps). \n",
    "        - But for recognition, need to avoid features that are parts of objects.\n",
    "    - _Judicious normalization approach_ (boxing/normalizing objects):\n",
    "        - Put a box around the object and use it as a coordinate frame for a set of normalized pixels.\n",
    "        - Solves \"dimension hopping\" if the box is always done correctly, the same part of an object always occurs on the same normalized pixels.\n",
    "        - Can provide invariance to many degrees of freedom: $\\color{red}{translation,\\ rotation,\\ scale,\\ shear\\ (dịch\\ chuyển),\\ stretch\\ ...}$\n",
    "        - Boxing, however is difficult, due to segmentation errors, occlusion, unusual orientations.\n",
    "        - Need to know what the shape is in order to box it right, which is the problem looking to solve already.\n",
    "    - _Brute Force normalization approach_ (boxing):\n",
    "        - When training the recognizer, use very clean data (use well-segmented, upright images) for training, to fit the correct box, so boxing can be done accurately and cleanly.\n",
    "        - At test time, try all possible boxes in a range of positions and scales, try to throw noisier less clean data.\n",
    "        - Is widely used for detecting upright things like faces and house numbers in unsegmented images.\n",
    "        - Important that the network can tolerate some sloppiness in the boxing so more coarse/less accurate boxing can be dont at test time. (it is much more efficient if the recognizer can cope with some variation in position and scale so that we can use a coarse grid when trying all possible boxes)."
   ]
  },
  {
   "cell_type": "markdown",
   "metadata": {},
   "source": [
    "## 5.3. Convolutional neural networks for hand written digit recognition\n",
    "<a id=\"hand_written_digit_reg\"> </a>"
   ]
  },
  {
   "cell_type": "markdown",
   "metadata": {},
   "source": [
    "## 5.4. Convolutional neural networks for object recognition\n",
    "<a id=\"conv_net_obj_reg\"> </a>"
   ]
  }
 ],
 "metadata": {
  "kernelspec": {
   "display_name": "Python 3",
   "language": "python",
   "name": "python3"
  },
  "language_info": {
   "codemirror_mode": {
    "name": "ipython",
    "version": 3
   },
   "file_extension": ".py",
   "mimetype": "text/x-python",
   "name": "python",
   "nbconvert_exporter": "python",
   "pygments_lexer": "ipython3",
   "version": "3.6.0"
  }
 },
 "nbformat": 4,
 "nbformat_minor": 2
}
